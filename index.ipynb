{
 "cells": [
  {
   "cell_type": "markdown",
   "metadata": {},
   "source": [
    "# Section Recap"
   ]
  },
  {
   "cell_type": "markdown",
   "metadata": {},
   "source": [
    "## Introduction\n",
    "\n",
    "This short lesson summarizes the topics we covered in section 16 and why they'll be important to you as a data scientist."
   ]
  },
  {
   "cell_type": "markdown",
   "metadata": {},
   "source": [
    "## Objectives\n",
    "You will be able to:\n",
    "* Understand and explain what was covered in this section\n",
    "* Understand and explain why this section will help you become a data scientist"
   ]
  },
  {
   "cell_type": "markdown",
   "metadata": {},
   "source": [
    "## Key Takeaways\n",
    "\n",
    "In this section, we really dug into two key formats for storing and transferring data between applications - JSON and XML. Key takeaways include:\n",
    "* XML (eXtensible Markup Language) is a general purpose markup language for describing any kind of structured data\n",
    "* JSON (JavaScript Object Notation) is another common format for storing and accessing data. It requires slightly less typing than XML to represent the same information so it has become increasingly popular over the last 10-15 years\n",
    "* The XML standard library in Python allows for interacting with XML data - https://docs.python.org/3.6/library/xml.html\n",
    "* The JSON standard library in Python is used for interacting with JSON data - https://docs.python.org/3.6/library/json.html\n",
    "* Recursive functions have a number of uses - including traversing deely embedded XML and/or JSON data structures\n",
    "* NoSQL databases are data stores that are not relational and don't use SQL for data access. Generally they're categorized as key-value stores (e.g. Redis), document databases (e.g. MongoDB), wide-column databases (e.g. Cassandra) or Graph databases (e.g. Neo4j) although over time some specific databases have started to resist easy categorization."
   ]
  },
  {
   "cell_type": "code",
   "execution_count": null,
   "metadata": {},
   "outputs": [
    {
     "name": "stdout",
     "output_type": "stream",
     "text": [
      "--2019-04-24 21:43:41--  https://dumps.wikimedia.org/enwiki/20190420/enwiki-20190420-pages-articles-multistream1.xml-p10p30302.bz2\n",
      "Resolving dumps.wikimedia.org (dumps.wikimedia.org)... 208.80.155.106, 2620:0:861:4:208:80:155:106\n",
      "Connecting to dumps.wikimedia.org (dumps.wikimedia.org)|208.80.155.106|:443... connected.\n",
      "HTTP request sent, awaiting response... 200 OK\n",
      "Length: 178223479 (170M) [application/octet-stream]\n",
      "Saving to: ‘enwiki-20190420-pages-articles-multistream1.xml-p10p30302.bz2.1’\n",
      "\n",
      "0420-pages-articles  47%[========>           ]  80.98M  1.92MB/s    eta 46s    "
     ]
    }
   ],
   "source": [
    "! wget https://dumps.wikimedia.org/enwiki/20190420/enwiki-20190420-pages-articles-multistream1.xml-p10p30302.bz2\n"
   ]
  },
  {
   "cell_type": "code",
   "execution_count": null,
   "metadata": {},
   "outputs": [],
   "source": [
    "! bunzip2"
   ]
  },
  {
   "cell_type": "code",
   "execution_count": null,
   "metadata": {},
   "outputs": [],
   "source": [
    "! wc"
   ]
  },
  {
   "cell_type": "code",
   "execution_count": null,
   "metadata": {},
   "outputs": [],
   "source": [
    "npages = 0\n",
    "with open(\n",
    "'')"
   ]
  }
 ],
 "metadata": {
  "kernelspec": {
   "display_name": "Python 3",
   "language": "python",
   "name": "python3"
  },
  "language_info": {
   "codemirror_mode": {
    "name": "ipython",
    "version": 3
   },
   "file_extension": ".py",
   "mimetype": "text/x-python",
   "name": "python",
   "nbconvert_exporter": "python",
   "pygments_lexer": "ipython3",
   "version": "3.6.6"
  }
 },
 "nbformat": 4,
 "nbformat_minor": 2
}
